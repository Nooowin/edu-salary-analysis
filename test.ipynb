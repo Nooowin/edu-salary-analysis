{
 "cells": [
  {
   "cell_type": "markdown",
   "id": "cogs-108-proposal",
   "metadata": {},
   "source": [
    "# **COGS 108 - Project Proposal**"
   ]
  },
  {
   "cell_type": "markdown",
   "id": "names",
   "metadata": {},
   "source": [
    "# **Names**\n",
    "* Arman Uddin  \n",
    "* Ethan Williams  \n",
    "* Vinson Nguyen  \n",
    "* Alysia Kim"
   ]
  },
  {
   "cell_type": "markdown",
   "id": "research-question",
   "metadata": {},
   "source": [
    "# **Research Question**\n",
    "**How do post-secondary education (e.g. associate degree, bachelor’s degree) correlate with income levels in the United States?**"
   ]
  },
  {
   "cell_type": "markdown",
   "id": "background-prior-work",
   "metadata": {},
   "source": [
    "## **Background and Prior Work**  \n",
    "Education has long been recognized as a key factor in income levels, with a higher level of education linked to increased earning potential..."
   ]
  },
  {
   "cell_type": "markdown",
   "id": "references",
   "metadata": {},
   "source": [
    "## **References:**  \n",
    "* [1] The College Payoff”  \n",
    "  [https://cew.georgetown.edu/wp-content/uploads/collegepayoff-completed.pdf](https://cew.georgetown.edu/wp-content/uploads/collegepayoff-completed.pdf)  \n",
    "* [2] “Annual Earnings by Educational Attachment”  \n",
    "  [https://nces.ed.gov/programs/coe/indicator/cba/annual-earnings](https://nces.ed.gov/programs/coe/indicator/cba/annual-earnings)  \n",
    "* [3] “How does a college degree improve graduates’ employment and earnings potential”  \n",
    "  [https://www.aplu.org/our-work/4-policy-and-advocacy/publicuvalues/employment-earnings/](https://www.aplu.org/our-work/4-policy-and-advocacy/publicuvalues/employment-earnings/)"
   ]
  },
  {
   "cell_type": "markdown",
   "id": "hypothesis",
   "metadata": {},
   "source": [
    "# **Hypothesis**\n",
    "We hypothesize that there will be a trend of an increased likelihood of $50k or more salary alongside an individual’s level of education..."
   ]
  },
  {
   "cell_type": "markdown",
   "id": "data",
   "metadata": {},
   "source": [
    "# **Data**  \n",
    "Dataset Name: Salary Prediction Classification  \n",
    "[https://www.kaggle.com/datasets/ayessa/salary-prediction-classification](https://www.kaggle.com/datasets/ayessa/salary-prediction-classification)"
   ]
  },
  {
   "cell_type": "markdown",
   "id": "ethics-privacy",
   "metadata": {},
   "source": [
    "# **Ethics & Privacy**  \n",
    "The 1994 U.S. Census dataset is considered ethical in its data collection and is mandated by the U.S. government..."
   ]
  },
  {
   "cell_type": "markdown",
   "id": "team-expectations",
   "metadata": {},
   "source": [
    "# **Team Expectations**  \n",
    "* **Organization**  \n",
    "  * All team members are expected to show up to meetings using Discord  \n",
    "  * We expect each team member to have their own way of stating their thoughts, whether bluntly or not  \n"
   ]
  },
  {
   "cell_type": "markdown",
   "id": "project-timeline",
   "metadata": {},
   "source": [
    "# **Project Timeline Proposal**  \n",
    "| Meeting Date | Meeting Time | Completed Before Meeting | Discuss at Meeting |\n",
    "| :---- | :---- | :---- | :---- |\n",
    "| 1/31 | 2pm | Read through project guidelines, brainstorming ideas | Exchange contact information, start finalizing a topic |\n",
    "| 2/8 | 10pm | Do background research, familiarize with chosen dataset | Filling out the project proposal, start splitting up work accordingly  |\n"
   ]
  }
 ],
 "metadata": {
  "kernelspec": {
   "display_name": "Python 3",
   "language": "python",
   "name": "python3"
  },
  "language_info": {
   "codemirror_mode": {
    "name": "ipython",
    "version": 3
   },
   "file_extension": ".py",
   "mimetype": "text/x-python",
   "name": "python",
   "nbconvert_exporter": "python",
   "pygments_lexer": "ipython3",
   "version": "3.8"
  }
 },
 "nbformat": 4,
 "nbformat_minor": 4
}
