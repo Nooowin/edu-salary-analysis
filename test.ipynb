{
 "cells": [
  {
   "cell_type": "markdown",
   "id": "cogs-108-proposal",
   "metadata": {},
   "source": [
    "# **COGS 108 - Project Proposal**"
   ]
  },
  {
   "cell_type": "markdown",
   "id": "names",
   "metadata": {},
   "source": [
    "# **Names**\n",
    "* Arman Uddin  \n",
    "* Ethan Williams  \n",
    "* Vinson Nguyen  \n",
    "* Alysia Kim"
   ]
  },
  {
   "cell_type": "markdown",
   "id": "research-question",
   "metadata": {},
   "source": [
    "# **Research Question**\n",
    "**How do post-secondary education (e.g. associate degree, bachelor’s degree) correlate with income levels in the United States?**"
   ]
  },
  {
   "cell_type": "markdown",
   "id": "background-prior-work",
   "metadata": {},
   "source": [
    "## **Background and Prior Work**  \n",
    "Education has long been recognized as a key factor in income levels, with a higher level of education linked to increased earning potential. Previous studies consistently showed that individuals with advanced education tend to have higher lifetime earnings, yet the relationship between education and salary can vary depending on the type of education pursued [1]. “The College Payout” explains “bachelor’s degree holders earn 31 percent more than workers with an associate’s degree and 74 percent more than those with just a high school diploma.” This paper finds a positive relationship between educational attainment and median earnings. Beyond the level of educational attainment, there is some nuance when looking at general earnings.  Besides degree types, age, gender, race/ethnicity, and job type are other factors that have varying degrees of effect on income. For example, they conclude that there is a prevalent gender wage gap across all educational attainments. There are also some disparities when looking at race/ethnicities, with them being more concentrated on bachelor's and professional degrees. Similar ideas are communicated in a study done by the National Center for Education Statistics, as levels of education increased, median earnings followed similarly [2]. “The pattern of those with educational attainment having higher median earnings held, in general, for both male and female 25- to 34-year-olds who worked full time, year-round in 2022.” This report also recognizes there are likely trends related to annual earnings such as sex/gender and race/ethnicity.  
In the third link below, there is other previous work done to show the effects of having a degree in general, regardless of which level [3]. The study concludes through its research that “[c]ollege graduates are half as likely to be unemployed as their peers whose highest degree is a high school diploma.” This goes to show the struggles of even finding a job for someone without a degree. Then there is the income factor, which is also devastating. To prove this with their numbers, they deduced that a person with a bachelors will on average make a whopping 86% higher than people who just have a high school diploma. The difference between having a degree and not having one is evident and clear. Additionally, the research proved that at “median lifetime earnings are $1.2 million higher for bachelor’s degree holders.” Using all of this information, it can be concluded that people who have a degree under their belts will almost always have a higher income and job stability than those who don’t.
Vocational education can also potentially lead to immediate employment opportunities but may not provide the same long-term income growth as academic degrees. This may be due to more specific professional training in post-secondary education with an emphasis on occupational hierarchy. 
In our project, we look to similarly examine the relationship between post-secondary education and annual earnings, particularly focusing on whether individuals with such education are more likely to earn above or below $50,000 per year.
"
   ]
  },
  {
   "cell_type": "markdown",
   "id": "references",
   "metadata": {},
   "source": [
    "## **References:**  \n",
    "* [1] The College Payoff”  \n",
    "  [https://cew.georgetown.edu/wp-content/uploads/collegepayoff-completed.pdf](https://cew.georgetown.edu/wp-content/uploads/collegepayoff-completed.pdf)  \n",
    "* [2] “Annual Earnings by Educational Attachment”  \n",
    "  [https://nces.ed.gov/programs/coe/indicator/cba/annual-earnings](https://nces.ed.gov/programs/coe/indicator/cba/annual-earnings)  \n",
    "* [3] “How does a college degree improve graduates’ employment and earnings potential”  \n",
    "  [https://www.aplu.org/our-work/4-policy-and-advocacy/publicuvalues/employment-earnings/](https://www.aplu.org/our-work/4-policy-and-advocacy/publicuvalues/employment-earnings/)"
   ]
  },
  {
   "cell_type": "markdown",
   "id": "hypothesis",
   "metadata": {},
   "source": [
    "# **Hypothesis**\n",
    "We hypothesize that there will be a trend of an increased likelihood of $50k or more salary alongside an individual’s level of education, with perhaps a small departure from the trend when comparing the salaries of young individuals with a vocational associate's degree to those with higher levels of education.  We predict this overall trend because of our research and prior knowledge that suggest higher education on average results in more successful careers and salaries and that four-plus year degrees provide specialized knowledge and opportunities for career advancement when compared to an associate degree or lesser college experience.  We predict an exception to the trend with vocational associates because we believe vocational training may provide high initial wages in technical fields but constraints in long-term salary growth which could surface in our analysis.
"
   ]
  },
  {
   "cell_type": "markdown",
   "id": "data",
   "metadata": {},
   "source": [
    "# **Data**  \n",
    "Dataset Name: Salary Prediction Classification  \n",
    "[https://www.kaggle.com/datasets/ayessa/salary-prediction-classification](https://www.kaggle.com/datasets/ayessa/salary-prediction-classification) \n,
    Our ideal dataset would be from the last few years and include basic demographic information, education level, employment history, work experience, work location, occupation, and some metrics to measure annual/hourly income with somewhat granular brackets (5-10k).  We would like several thousands of observations in order to be confident that we have a representative sample of all the education levels involved.  This data could be collected in either a US census and/or a survey conducted on alumni of several colleges and high schools.  This data could be cleaned of unique identifying information and properly anonymized then stored in a relational database where each row would be a person’s set of answers and the columns would encompass each data field.
This data we will be using was extracted from the 1994 Census database. It includes 32,600 observations and includes background information such as age, level of education, hours worked per week, and a true/false value for whether the person’s salary is greater than $50k/year. Even though we would like the salary column to have more granularity, the data available will be sufficient to recognize clear correlations between the levels of education and their effects on salary.
"
   ]
  },
  {
   "cell_type": "markdown",
   "id": "ethics-privacy",
   "metadata": {},
   "source": [
    "# **Ethics & Privacy**  \n",
    "The 1994 U.S. Census dataset is considered ethical in its data collection and is mandated by the U.S. government. Since the dataset specifically reflects the United States, our analysis should remain within the scope, even though some entries may represent individuals from other countries due to immigration. However, because the data goes back to 1994, it may not fully portray current economic conditions or the rising diversity in the U.S. population. Furthermore, it does not account for global economic trends or differences in educational and employment systems across countries, we should make generalizations cautiously. 
The dataset may present potential biases regarding gender, race, and age in income distribution. Historically, women have earned less than men for equivalent work, and racial minorities have experienced structural disadvantages in education and employment opportunities. Therefore, it is necessary to avoid reinforcing harmful stereotypes or predetermined relationships between demographics and income. In order to ensure a more refined analysis, we will consider broader factors such as changes in policy and access to educational resources, as well as evaluate our findings within the accurate historical and social frameworks rather than creating overly simplistic claims. 
"
   ]
  },
  {
   "cell_type": "markdown",
   "id": "team-expectations",
   "metadata": {},
   "source": [
    * **Organization**  
  * All team members are expected to show up to meetings using Discord  
  * We expect each team member to have their own way of stating their thoughts, whether bluntly or not  
  * Decisions will be made after every member has agreed, and each person will always have their say  
  * If a person has issues and is struggling to complete their end:   
    * It should be told before deadlines to avoid untimely completion   
    * Other team members can take over and help when needed  
* **Contribution**  
* Every person will be assigned their part, and some parts will have multiple members   
* All members need to put in equal effort to the project, which means a fair splitting of work  
* Some aspects everyone needs to work on:  
  * Code  
  * Checking for mistakes (grammar, spelling, graph mistakes)  
  * Text  
* **Communication**  
  * All communication must be respectful, avoiding conflicts  
  * Criticism:  
  * Respectful  
  * Not too blunt  
  * Think of solutions, not just stating the problems  
* **Conflict**  
  * Resolved through communication  
  * To understand better, everyone must take the quiz:   
    * [https://cuboulder.qualtrics.com/jfe/form/SV\_6Kkp5kCHt628Zg1](https://cuboulder.qualtrics.com/jfe/form/SV_6Kkp5kCHt628Zg1)  

   ]
  },
  {
   "cell_type": "markdown",
   "id": "project-timeline",
   "metadata": {},
   "source": [
    "# **Project Timeline Proposal**  \n",
   | Meeting Date | Meeting Time | Completed Before Meeting | Discuss at Meeting |
   | :---- | :---- | :---- | :---- |
   | 1/31 | 2pm | Read through project guidelines, brainstorming ideas | Exchange contact information, start finalizing a topic |
   | 2/8 | 10pm | Do background research, familiarize with chosen dataset | Filling out the project proposal, start splitting up work accordingly  |
   | 2/15 | 12pm | Import the data/EDA | Discuss cleanliness of data and start editing/wrangling |
   | 2/22 | 12pm | Review checkpoint guidelines | Data Checkpoint |
   | 3/8 | 12pm | Review checkpoint guidelines | EDA Checkpoint |
   | 3/13 | 12pm | Finish up data analysis  | Finalize project |
   | 3/20 | 12pm | Finish up the project | Final Project submission  |
   ]
  }
 ],
 "metadata": {
  "kernelspec": {
   "display_name": "Python 3",
   "language": "python",
   "name": "python3"
  },
  "language_info": {
   "codemirror_mode": {
    "name": "ipython",
    "version": 3
   },
   "file_extension": ".py",
   "mimetype": "text/x-python",
   "name": "python",
   "nbconvert_exporter": "python",
   "pygments_lexer": "ipython3",
   "version": "3.8"
  }
 },
 "nbformat": 4,
 "nbformat_minor": 4
}
