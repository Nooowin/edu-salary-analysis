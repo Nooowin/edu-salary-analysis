{
 "cells": [
  {
   "cell_type": "markdown",
   "metadata": {},
   "source": [
    "**If you lost points on the last checkpoint you can get them back by responding to TA/IA feedback**  \n",
    "\n",
    "Update/change the relevant sections where you lost those points, make sure you respond on GitHub Issues to your TA/IA to call their attention to the changes you made here.\n",
    "\n",
    "Please update your Timeline... no battle plan survives contact with the enemy, so make sure we understand how your plans have changed."
   ]
  },
  {
   "cell_type": "markdown",
   "metadata": {},
   "source": [
    "# COGS 108 - EDA Checkpoint"
   ]
  },
  {
   "cell_type": "markdown",
   "metadata": {},
   "source": [
    "# Names\n",
    "\n",
    "* Arman Uddin  \n",
    "* Ethan Williams  \n",
    "* Vinson Nguyen  \n",
    "* Alysia Kim"
   ]
  },
  {
   "cell_type": "markdown",
   "metadata": {},
   "source": [
    "# Research Question"
   ]
  },
  {
   "cell_type": "markdown",
   "metadata": {},
   "source": [
    "**What percent increase do post-secondary educations (e.g. associate degree, bachelor’s degree) have on likelihood to have an above-median salary for 40 hours/week workers in the United States and in what age group are those increases best realized?** "
   ]
  },
  {
   "cell_type": "markdown",
   "metadata": {},
   "source": [
    "## Background and Prior Work"
   ]
  },
  {
   "cell_type": "markdown",
   "metadata": {},
   "source": [
    "Education has long been recognized as a key factor in income levels, with a higher level of education generally perceived to increase earning potential. Prior research supports this, showing individuals tend to have higher earnings, “a college degree is key to economic opportunity, conferring substantially higher earnings on those with credentials than those without” \\[1\\]. As access to education has increased, the expectation that higher levels of education can unlock better job opportunities and financial stability with it. A formal education is important, but further nuance and research is needed to examine this relationship.\n",
    "\n",
    "Previous studies consistently showed that individuals with advanced education tend to have higher lifetime earnings. “The College Payout” explains “bachelor’s degree holders earn 31 percent more than workers with an associate’s degree and 74 percent more than those with just a high school diploma” \\[1\\].  This paper finds a positive relationship between educational attainment and median earnings. Similar ideas are communicated in a study done by the National Center for Education Statistics, as levels of education increased, median earnings followed similarly \\[2\\]. “The pattern of those with educational attainment having higher median earnings held, in general, for both male and female 25- to 34-year-olds who worked full time, year-round in 2022.” \n",
    "\n",
    "There is other previous work done to show the effects of having a degree in general, regardless of which level \\[3\\]. The study concludes through its research that “\\[c\\]ollege graduates are half as likely to be unemployed as their peers whose highest degree is a high school diploma.” This goes to show the struggles of even finding a job for someone without a degree. Then there is the income factor, which is also devastating. To prove this with their numbers, they deduced that a person with a bachelors will on average make a whopping 86% higher than people who just have a high school diploma. The difference between having a degree and not having one is evident and clear. Additionally, the research proved that at “median lifetime earnings are $1.2 million higher for bachelor’s degree holders” \\[3\\]. It can be concluded that people who have a degree under their belts will almost always have a higher income and job stability than those who don’t.\n",
    "\n",
    "The relationship between education and salary can vary depending on the type of education pursued. Vocational education can also potentially lead to immediate employment opportunities but may not provide the same long-term income growth as academic degrees. This may be due to more specific professional training in post-secondary education with an emphasis on occupational hierarchy. There are a variety of high paying trade jobs including, but not limited to, HVAC technicians, electricians, and plumbers that offer high paying salaries without needing a four-year degree or above. Not all forms of education have the same income trajectory. There are many ways to achieve a great deal of financial success that should be mentioned. \n",
    "\n",
    "In our project, we look to similarly examine the relationship between post-secondary education and annual earnings, particularly focusing on whether individuals with such education are more likely to earn above or below $50,000 per year.\n",
    "\n",
    "\n",
    "References:\n",
    "\n",
    "* \\[1\\] The College Payoff”  \n",
    "  [https://cew.georgetown.edu/wp-content/uploads/collegepayoff-completed.pdf](https://cew.georgetown.edu/wp-content/uploads/collegepayoff-completed.pdf)  \n",
    "* \\[2\\] “Annual Earnings by Educational Attachment”  \n",
    "  [https://nces.ed.gov/programs/coe/indicator/cba/annual-earnings](https://nces.ed.gov/programs/coe/indicator/cba/annual-earnings)  \n",
    "* \\[3\\] “How does a college degree improve graduates’ employment and earnings potential”  \n",
    "  [https://www.aplu.org/our-work/4-policy-and-advocacy/publicuvalues/employment-earnings/](https://www.aplu.org/our-work/4-policy-and-advocacy/publicuvalues/employment-earnings/)\n",
    "\n",
    " **Use inline citation through HTML footnotes to specify which references support which statements** \n",
    "\n",
    "For example: After government genocide in the 20th century, real birds were replaced with surveillance drones designed to look just like birds.<a name=\"cite_ref-1\"></a>[<sup>1</sup>](#cite_note-1) Use a minimum of 2 or 3 citations, but we prefer more.<a name=\"cite_ref-2\"></a>[<sup>2</sup>](#cite_note-2) You need enough to fully explain and back up important facts. \n",
    "\n",
    "Note that if you click a footnote number in the paragraph above it will transport you to the proper entry in the footnotes list below.  And if you click the ^ in the footnote entry, it will return you to the place in the main text where the footnote is made.\n",
    "\n",
    "To understand the HTML here, `<a name=\"#...\"> </a>` is a tag that allows you produce a named reference for a given location.  Markdown has the construciton `[text with hyperlink](#named reference)` that will produce a clickable link that transports you the named reference.\n",
    "\n",
    "1. <a name=\"cite_note-1\"></a> [^](#cite_ref-1) Lorenz, T. (9 Dec 2021) Birds Aren’t Real, or Are They? Inside a Gen Z Conspiracy Theory. *The New York Times*. https://www.nytimes.com/2021/12/09/technology/birds-arent-real-gen-z-misinformation.html \n",
    "2. <a name=\"cite_note-2\"></a> [^](#cite_ref-2) Also refs should be important to the background, not some randomly chosen vaguely related stuff. Include a web link if possible in refs as above.\n"
   ]
  },
  {
   "cell_type": "markdown",
   "metadata": {},
   "source": [
    "# Hypothesis\n"
   ]
  },
  {
   "cell_type": "markdown",
   "metadata": {},
   "source": [
    "We hypothesize that there will be a trend of an increased likelihood of $50k or more salary alongside an individual’s level of education, with perhaps a small departure from the trend when comparing the salaries of young individuals with a vocational associate's degree to those with higher levels of education.  We predict this overall trend because of our research and prior knowledge that suggest higher education on average results in more successful careers and salaries and that four-plus year degrees provide specialized knowledge and opportunities for career advancement when compared to an associate degree or lesser college experience.  We predict an exception to the trend with vocational associates because we believe vocational training may provide high initial wages in technical fields but constraints in long-term salary growth which could surface in our analysis.\n"
   ]
  },
  {
   "cell_type": "markdown",
   "metadata": {},
   "source": [
    "# Data"
   ]
  },
  {
   "cell_type": "markdown",
   "metadata": {},
   "source": [
    "## Data overview\n",
    "\n",
    "Dataset Name: Salary Prediction Classification\n",
    "\n",
    "[https://www.kaggle.com/datasets/ayessa/salary-prediction-classification](https://www.kaggle.com/datasets/ayessa/salary-prediction-classification)\n",
    "\n",
    "Our ideal dataset would be from the last few years and include basic demographic information, education level, employment history, work experience, work location, occupation, and some metrics to measure annual/hourly income with somewhat granular brackets (5-10k).  We would like several thousands of observations in order to be confident that we have a representative sample of all the education levels involved.  This data could be collected in either a US census and/or a survey conducted on alumni of several colleges and high schools.  This data could be cleaned of unique identifying information and properly anonymized then stored in a relational database where each row would be a person’s set of answers and the columns would encompass each data field.\n",
    "\n",
    "This data we will be using was extracted from the 1994 Census database. It includes 32,600 observations and includes background information such as age, level of education, hours worked per week, and a true/false value for whether the person’s salary is greater than $50k/year. Even though we would like the salary column to have more granularity, the data available will be sufficient to recognize clear correlations between the levels of education and their effects on salary.  \n",
    "\n",
    "The census data is quite old, but not irrelevant since all the salaries we analyze will be from the same time period and should reflect the impact of education level on annual salary regardless.  It is worth noting that in 1994, 50k/year for a 40hr/week worker is a wage of 24.04 USD per hour which falls into a medium wage bracket which, when adjusted for wage growth will have increased at a rate of roughly 0.1\\% per year up until 2019 at which point a much higher wage growth occurred during the pandemic lockdowns for a total medium-wage growth of \\~16\\% (taken from the medium wage growth data from 1979 to 2023, the article claims the 0.1\\% / year figure for the block 1979 \\- 2019, so subtracting the estimated 1.4\\% between 1979 and 1994 from the total 17.4\\% in the time period \\[4\\]).  Therefore a study using modern census data that looks to reflect on our results here should look at 40 hour/week workers who annually make more than 58,000.00 USD.\n",
    "\n",
    "(article on wage growth from about the time of census data to almost modern day:\\[4\\] [Chart: Growth in U.S. Real Wages, by Income Group (1979-2023)](https://www.visualcapitalist.com/growth-in-real-wages-over-time-by-income-group-usa-1979-2023/) )"
   ]
  },
  {
   "cell_type": "markdown",
   "metadata": {},
   "source": [
    "## Dataset #1 (use name instead of number here)"
   ]
  },
  {
   "cell_type": "code",
   "execution_count": 1,
   "metadata": {},
   "outputs": [],
   "source": [
    "#Imports\n",
    "import seaborn as sns\n",
    "import pandas as pd\n",
    "import matplotlib.pyplot as plt\n",
    "\n",
    "#Load:  \n",
    "df = pd.read_csv('salary.csv')\n",
    "\n",
    "#Data cleaning/wrangling:  \n",
    "df_new = df.dropna(how='all')  #drop rows with all null values(if any)  \n",
    "df_new[\"education\"] = df_new[\"education\"].str.strip() #delete leading whitespaces  \n",
    "df_new = df[df[\"hours-per-week\"] == 40]  #specify 40 hrs a week  \n",
    "df_new = df_new[~df_new[\"workclass\"].isin([\"Without-pay\", \"Never-worked\"])] #remove anyone who is unemployed\n",
    "\n",
    "#Data tidying:  \n",
    "df_new.columns = df_new.columns.str.replace('-', '*')  #*use snake_case, better readability"
   ]
  },
  {
   "cell_type": "markdown",
   "metadata": {},
   "source": [
    "# Results\n",
    "\n",
    "## Exploratory Data Analysis\n",
    "\n",
    "Carry out whatever EDA you need to for your project.  Because every project will be different we can't really give you much of a template at this point. But please make sure you describe the what and why in text here as well as providing interpretation of results and context."
   ]
  },
  {
   "cell_type": "markdown",
   "metadata": {},
   "source": [
    "### Section 1 of EDA - please give it a better title than this\n",
    "\n",
    "Some more words and stuff.  Remember notebooks work best if you interleave the code that generates a result with properly annotate figures and text that puts these results into context."
   ]
  },
  {
   "cell_type": "code",
   "execution_count": 2,
   "metadata": {},
   "outputs": [],
   "source": [
    "#possible relavent columns/variables\n",
    "df_new = df_new.drop(columns = ['fnlwgt', 'marital*status', 'capital*gain', 'capital*loss'])"
   ]
  },
  {
   "cell_type": "code",
   "execution_count": 3,
   "metadata": {},
   "outputs": [
    {
     "data": {
      "text/plain": [
       "0         <=50K\n",
       "2         <=50K\n",
       "3         <=50K\n",
       "4         <=50K\n",
       "5         <=50K\n",
       "          ...  \n",
       "32554      >50K\n",
       "32555     <=50K\n",
       "32557      >50K\n",
       "32558     <=50K\n",
       "32560      >50K\n",
       "Name: salary, Length: 15217, dtype: object"
      ]
     },
     "execution_count": 3,
     "metadata": {},
     "output_type": "execute_result"
    }
   ],
   "source": [
    "df_new['salary']"
   ]
  },
  {
   "cell_type": "code",
   "execution_count": 4,
   "metadata": {},
   "outputs": [],
   "source": [
    "def create_boolean(string):\n",
    "    string = string.strip()\n",
    "    if (string == '<=50K'):\n",
    "        return False\n",
    "    if (string == '>50K'):\n",
    "        return True\n",
    "\n",
    "df_new['salary'] = df_new['salary'].apply(create_boolean)"
   ]
  },
  {
   "cell_type": "code",
   "execution_count": 5,
   "metadata": {},
   "outputs": [
    {
     "data": {
      "text/plain": [
       "<Axes: xlabel='education*num', ylabel='Proportion Earning >50k'>"
      ]
     },
     "execution_count": 5,
     "metadata": {},
     "output_type": "execute_result"
    },
    {
     "data": {
      "image/png": "[encoded data removed]",
      "text/plain": [
       "<Figure size 640x480 with 1 Axes>"
      ]
     },
     "metadata": {},
     "output_type": "display_data"
    }
   ],
   "source": [
    "#barplot\n",
    "plt.ylabel(\"Proportion Earning >50k\")\n",
    "sns.barplot(x = 'education*num', y = 'salary', data = df_new)\n",
    "\n",
    "#important to note what we hypothesized about vocational training (11) is true, proportion for 11 > proportion for 12"
   ]
  },
  {
   "cell_type": "code",
   "execution_count": 6,
   "metadata": {},
   "outputs": [],
   "source": [
    "#group1: workers with post-secondary education (associates, bachelor's, etc.) (10-16)\n",
    "#group2: up to high school diploma (1-9)\n",
    "post_secondary_df = df_new[df_new['education*num'] > 9][['education', 'education*num', 'salary']]\n",
    "pre_secondary_df = df_new[df_new['education*num'] <= 9][['education', 'education*num', 'salary']]"
   ]
  },
  {
   "cell_type": "code",
   "execution_count": 7,
   "metadata": {},
   "outputs": [
    {
     "name": "stdout",
     "output_type": "stream",
     "text": [
      "0.29593432369038314\n",
      "0.12939148879756066\n"
     ]
    }
   ],
   "source": [
    "#proportion of people that make > 50K\n",
    "post_salary = post_secondary_df['salary'].mean()\n",
    "pre_salary = pre_secondary_df['salary'].mean()\n",
    "print(post_salary)\n",
    "print(pre_salary)"
   ]
  },
  {
   "cell_type": "code",
   "execution_count": 8,
   "metadata": {},
   "outputs": [
    {
     "data": {
      "text/plain": [
       "education*num\n",
       "1     0.000000\n",
       "2     0.037500\n",
       "3     0.049505\n",
       "4     0.057143\n",
       "5     0.047970\n",
       "6     0.072562\n",
       "7     0.060166\n",
       "8     0.108374\n",
       "9     0.153693\n",
       "10    0.193319\n",
       "11    0.241427\n",
       "12    0.235052\n",
       "13    0.363201\n",
       "14    0.515742\n",
       "15    0.640288\n",
       "16    0.721311\n",
       "Name: salary, dtype: float64"
      ]
     },
     "execution_count": 8,
     "metadata": {},
     "output_type": "execute_result"
    }
   ],
   "source": [
    "proportion_by_education = df_new[['education', 'education*num', 'salary']]\n",
    "salary_proportions = proportion_by_education.groupby('education*num')['salary'].mean()\n",
    "salary_proportions"
   ]
  },
  {
   "cell_type": "code",
   "execution_count": 53,
   "metadata": {},
   "outputs": [],
   "source": [
    "age_df = df_new[['age', 'education', 'education*num', 'salary']]\n",
    "#age groups will be [17-30), [30-40), ..., [80-90]\n",
    "age_group_1 = age_df[(age_df['age'] >= 17) & (age_df['age'] < 30)]\n",
    "age_group_2 = age_df[(age_df['age'] >= 30) & (age_df['age'] < 40)]\n",
    "age_group_3 = age_df[(age_df['age'] >= 40) & (age_df['age'] < 50)]\n",
    "age_group_4 = age_df[(age_df['age'] >= 50) & (age_df['age'] < 60)]\n",
    "age_group_5 = age_df[(age_df['age'] >= 60) & (age_df['age'] < 70)]\n",
    "age_group_6 = age_df[(age_df['age'] >= 70) & (age_df['age'] < 80)]\n",
    "age_group_7 = age_df[(age_df['age'] >= 80) & (age_df['age'] < 90)]"
   ]
  },
  {
   "cell_type": "code",
   "execution_count": 82,
   "metadata": {},
   "outputs": [
    {
     "name": "stdout",
     "output_type": "stream",
     "text": [
      "0.04890969636828574\n",
      "0.1624492827903553\n",
      "0.2301370115450885\n",
      "0.26657729595306096\n",
      "0.2525291782967648\n",
      "0.16215253029223095\n",
      "0.0\n"
     ]
    }
   ],
   "source": [
    "#proportion of people that make > 50K for age group 1 [17-30)\n",
    "post_secondary_1 = age_group_1[age_group_1['education*num'] > 9][['education', 'education*num', 'salary']]\n",
    "pre_secondary_1 = age_group_1[age_group_1['education*num'] <= 9][['education', 'education*num', 'salary']]\n",
    "\n",
    "post_salary_1 = post_secondary_1['salary'].mean()\n",
    "pre_salary_1 = pre_secondary_1['salary'].mean()\n",
    "print(post_salary_1 - pre_salary_1)\n",
    "\n",
    "#proportion of people that make > 50K for age group 2 [30-40)\n",
    "post_secondary_2 = age_group_2[age_group_2['education*num'] > 9][['education', 'education*num', 'salary']]\n",
    "pre_secondary_2 = age_group_2[age_group_2['education*num'] <= 9][['education', 'education*num', 'salary']]\n",
    "\n",
    "post_salary_2 = post_secondary_2['salary'].mean()\n",
    "pre_salary_2 = pre_secondary_2['salary'].mean()\n",
    "print(post_salary_2 - pre_salary_2)\n",
    "\n",
    "#proportion of people that make > 50K for age group 3 [40-50)\n",
    "post_secondary_3 = age_group_3[age_group_3['education*num'] > 9][['education', 'education*num', 'salary']]\n",
    "pre_secondary_3 = age_group_3[age_group_3['education*num'] <= 9][['education', 'education*num', 'salary']]\n",
    "\n",
    "post_salary_3 = post_secondary_3['salary'].mean()\n",
    "pre_salary_3 = pre_secondary_3['salary'].mean()\n",
    "print(post_salary_3 - pre_salary_3)\n",
    "\n",
    "#proportion of people that make > 50K for age group 4 [50-60)\n",
    "post_secondary_4 = age_group_4[age_group_4['education*num'] > 9][['education', 'education*num', 'salary']]\n",
    "pre_secondary_4 = age_group_4[age_group_4['education*num'] <= 9][['education', 'education*num', 'salary']]\n",
    "\n",
    "post_salary_4 = post_secondary_4['salary'].mean()\n",
    "pre_salary_4 = pre_secondary_4['salary'].mean()\n",
    "print(post_salary_4 - pre_salary_4)\n",
    "\n",
    "#proportion of people that make > 50K for age group 5 [60-70)\n",
    "post_secondary_5 = age_group_5[age_group_5['education*num'] > 9][['education', 'education*num', 'salary']]\n",
    "pre_secondary_5 = age_group_5[age_group_5['education*num'] <= 9][['education', 'education*num', 'salary']]\n",
    "\n",
    "post_salary_5 = post_secondary_5['salary'].mean()\n",
    "pre_salary_5 = pre_secondary_5['salary'].mean()\n",
    "print(post_salary_5 - pre_salary_5)\n",
    "\n",
    "#proportion of people that make > 50K for age group 6 [70-80)\n",
    "post_secondary_6 = age_group_6[age_group_6['education*num'] > 9][['education', 'education*num', 'salary']]\n",
    "pre_secondary_6 = age_group_6[age_group_6['education*num'] <= 9][['education', 'education*num', 'salary']]\n",
    "\n",
    "post_salary_6 = post_secondary_6['salary'].mean()\n",
    "pre_salary_6 = pre_secondary_6['salary'].mean()\n",
    "print(post_salary_6 - pre_salary_6)\n",
    "\n",
    "#proportion of people that make > 50K for age group 7 [80-90)\n",
    "#this one might be negligible\n",
    "post_secondary_7 = age_group_7[age_group_7['education*num'] > 9][['education', 'education*num', 'salary']]\n",
    "pre_secondary_7 = age_group_7[age_group_7['education*num'] <= 9][['education', 'education*num', 'salary']]\n",
    "\n",
    "post_salary_7 = post_secondary_7['salary'].mean()\n",
    "pre_salary_7 = pre_secondary_7['salary'].mean()\n",
    "print(post_salary_7 - pre_salary_7)\n",
    "\n",
    "#from this, we can see that age range 4, or [50-60), see this percent increase in post-secondary education the greatest "
   ]
  },
  {
   "cell_type": "markdown",
   "metadata": {},
   "source": [
    "### Section 2 of EDA if you need it  - please give it a better title than this\n",
    "\n",
    "Some more words and stuff.  Remember notebooks work best if you interleave the code that generates a result with properly annotate figures and text that puts these results into context."
   ]
  },
  {
   "cell_type": "code",
   "execution_count": null,
   "metadata": {},
   "outputs": [],
   "source": [
    "## YOUR CODE HERE\n",
    "## FEEL FREE TO ADD MULTIPLE CELLS PER SECTION"
   ]
  },
  {
   "cell_type": "markdown",
   "metadata": {},
   "source": [
    "# Ethics & Privacy"
   ]
  },
  {
   "cell_type": "markdown",
   "metadata": {},
   "source": [
    "The 1994 U.S. Census dataset is publicly sourced data collected and mandated by the U.S. government, which guarantees ethicality in its data collection. However, ethical and other critical challenges need to be addressed while interpreting older data. The challenges include representation biases, the limitations of outdated economic data, and the risk of perpetuating harmful stereotypes. \n",
    "\n",
    "One of the biggest concerns is representation bias because the dataset may not entirely represent the diversity of the U.S. population. Even though the 1994 Census covers a broad sample of the U.S. population, it may underrepresent various groups in certain ways. For example, the dataset can illustrate historical gender disparities, where women have historically earned lower wages than men for equivalent work and education levels. This inequality should be interpreted as a fundamental issue rather than an inherent relationship between gender and income. Likewise, racial and ethnic inequities are evident in the data, since certain barriers historically induced limited access to education and career opportunities for minority groups. Furthermore, because the dataset displays income at a single point in time, it does not reflect long-term potential or career advancement of individuals with different levels of education. In order to address these biases, this study’s findings will be set within their historical context while recognizing that the observed trends may not fully align with the present day. Also, any conclusions regarding income disparities will be cautiously made to avoid overgeneralization or predetermined claims that fail to consider broader influences. \n",
    "\n",
    "Another issue is the outdated nature of the dataset. Since 1994, the U.S. economy experienced drastic shifts that altered the relationship between education and income. Changes such as technological advancements, the decline of manufacturing jobs, and the rise of remote work clearly redefined labor market opportunities, which affects how education is associated with earnings. In addition, the increased tuition costs and student loan debt also change the economic relationship on higher education, while policy shifts like minimum wage changes and labor protections have influenced income distribution. To mitigate this limitation, our findings may be strictly framed as historical trends rather than comparisons to present-day labor market conditions. If applicable, we can discuss relevant policy changes and shifts in educational accessibility to provide additional context. \n",
    "\n",
    "Lastly, the study should avoid implying harmful stereotypes when analyzing the relationship between education and income. The assumption that education alone determines earnings would fail to notice systemic factors such as historical discrimination, labor market inequality, and other barriers. Without careful analysis, our findings could unintentionally prompt insinuations that blame individuals for income disparities rather than recognizing structural conditions that shape economic outcomes. To prevent this, we will avoid claims that oversimplify the relationship between education and income, and instead emphasize the broader economic and policy frameworks that influence wage distributions. "
   ]
  },
  {
   "cell_type": "markdown",
   "metadata": {},
   "source": [
    "# Team Expectations "
   ]
  },
  {
   "cell_type": "markdown",
   "metadata": {},
   "source": [
    "* **Organization**  \n",
    "  * All team members are expected to show up to meetings using Discord  \n",
    "  * We expect each team member to have their own way of stating their thoughts, whether bluntly or not  \n",
    "  * Decisions will be made after every member has agreed, and each person will always have their say  \n",
    "  * If a person has issues and is struggling to complete their end:   \n",
    "    * It should be told before deadlines to avoid untimely completion   \n",
    "    * Other team members can take over and help when needed  \n",
    "* **Contribution**  \n",
    "* Every person will be assigned their part, and some parts will have multiple members   \n",
    "* All members need to put in equal effort to the project, which means a fair splitting of work  \n",
    "* Some aspects everyone needs to work on:  \n",
    "  * Code  \n",
    "  * Checking for mistakes (grammar, spelling, graph mistakes)  \n",
    "  * Text  \n",
    "* **Communication**  \n",
    "  * All communication must be respectful, avoiding conflicts  \n",
    "  * Criticism:  \n",
    "  * Respectful  \n",
    "  * Not too blunt  \n",
    "  * Think of solutions, not just stating the problems  \n",
    "* **Conflict**  \n",
    "  * Resolved through communication  \n",
    "  * To understand better, everyone must take the quiz:   \n",
    "    * [https://cuboulder.qualtrics.com/jfe/form/SV\\_6Kkp5kCHt628Zg1](https://cuboulder.qualtrics.com/jfe/form/SV_6Kkp5kCHt628Zg1)  "
   ]
  },
  {
   "cell_type": "markdown",
   "metadata": {},
   "source": [
    "# Project Timeline Proposal"
   ]
  },
  {
   "cell_type": "markdown",
   "metadata": {},
   "source": [
    "| Meeting Date | Meeting Time | Completed Before Meeting | Discuss at Meeting |\n",
    "| :---- | :---- | :---- | :---- |\n",
    "| 1/31 | 2pm | Read through project guidelines, brainstorming ideas | Exchange contact information, start finalizing a topic |\n",
    "| 2/8 | 10pm | Do background research, familiarize with chosen dataset | Filling out the project proposal, start splitting up work accordingly  |\n",
    "| 2/15 | 12pm | Import the data/EDA | Discuss cleanliness of data and start editing/wrangling |\n",
    "| 2/22 | 12pm | Review checkpoint guidelines | Data Checkpoint |\n",
    "| 3/8 | 12pm | Review checkpoint guidelines | EDA Checkpoint |\n",
    "| 3/13 | 12pm | Finish up data analysis  | Finalize project |\n",
    "| 3/20 | 12pm | Finish up the project | Final Project submission  |"
   ]
  }
 ],
 "metadata": {
  "kernelspec": {
   "display_name": "Python 3 (ipykernel)",
   "language": "python",
   "name": "python3"
  },
  "language_info": {
   "codemirror_mode": {
    "name": "ipython",
    "version": 3
   },
   "file_extension": ".py",
   "mimetype": "text/x-python",
   "name": "python",
   "nbconvert_exporter": "python",
   "pygments_lexer": "ipython3",
   "version": "3.9.6"
  }
 },
 "nbformat": 4,
 "nbformat_minor": 4
}
