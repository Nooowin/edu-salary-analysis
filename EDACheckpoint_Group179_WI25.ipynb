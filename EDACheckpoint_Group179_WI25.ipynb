{
 "cells": [
  {
   "cell_type": "markdown",
   "metadata": {},
   "source": [
    "**If you lost points on the last checkpoint you can get them back by responding to TA/IA feedback**  \n",
    "\n",
    "Update/change the relevant sections where you lost those points, make sure you respond on GitHub Issues to your TA/IA to call their attention to the changes you made here.\n",
    "\n",
    "Please update your Timeline... no battle plan survives contact with the enemy, so make sure we understand how your plans have changed."
   ]
  },
  {
   "cell_type": "markdown",
   "metadata": {},
   "source": [
    "# COGS 108 - EDA Checkpoint"
   ]
  },
  {
   "cell_type": "markdown",
   "metadata": {},
   "source": [
    "# Names\n",
    "\n",
    "* Arman Uddin  \n",
    "* Ethan Williams  \n",
    "* Vinson Nguyen  \n",
    "* Alysia Kim"
   ]
  },
  {
   "cell_type": "markdown",
   "metadata": {},
   "source": [
    "# Research Question"
   ]
  },
  {
   "cell_type": "markdown",
   "metadata": {},
   "source": [
    "**What percent increase do post-secondary educations (e.g. associate degree, bachelor’s degree) have on likelihood to have an above-median salary for 40 hours/week workers in the United States and in what age group are those increases best realized?** "
   ]
  },
  {
   "cell_type": "markdown",
   "metadata": {},
   "source": [
    "## Background and Prior Work"
   ]
  },
  {
   "cell_type": "markdown",
   "metadata": {},
   "source": [
    "Education has long been recognized as a key factor in income levels, with a higher level of education generally perceived to increase earning potential. Prior research supports this, showing individuals tend to have higher earnings, “a college degree is key to economic opportunity, conferring substantially higher earnings on those with credentials than those without”.<a name=\"cite_ref-1\"></a>[<sup>1</sup>](#cite_note-1) As access to education has increased, the expectation that higher levels of education can unlock better job opportunities and financial stability with it. A formal education is important, but further nuance and research is needed to examine this relationship.\n",
    "\n",
    "Previous studies consistently showed that individuals with advanced education tend to have higher lifetime earnings. “The College Payout” explains “bachelor’s degree holders earn 31 percent more than workers with an associate’s degree and 74 percent more than those with just a high school diploma”.<a name=\"cite_ref-1\"></a>[<sup>1</sup>](#cite_note-1) This paper finds a positive relationship between educational attainment and median earnings. Similar ideas are communicated in a study done by the National Center for Education Statistics, as levels of education increased, median earnings followed similarly.<a name=\"cite_ref-2\"></a>[<sup>2</sup>](#cite_note-2) “The pattern of those with educational attainment having higher median earnings held, in general, for both male and female 25- to 34-year-olds who worked full time, year-round in 2022.” \n",
    "\n",
    "There is other previous work done to show the effects of having a degree in general, regardless of which level.<a name=\"cite_ref-3\"></a>[<sup>3</sup>](#cite_note-3) The study concludes through its research that “\\[c\\]ollege graduates are half as likely to be unemployed as their peers whose highest degree is a high school diploma.” This goes to show the struggles of even finding a job for someone without a degree. Then there is the income factor, which is also devastating. To prove this with their numbers, they deduced that a person with a bachelors will on average make a whopping 86% higher than people who just have a high school diploma. The difference between having a degree and not having one is evident and clear. Additionally, the research proved that at “median lifetime earnings are $1.2 million higher for bachelor’s degree holders”.<a name=\"cite_ref-3\"></a>[<sup>3</sup>](#cite_note-3) It can be concluded that people who have a degree under their belts will almost always have a higher income and job stability than those who don’t.\n",
    "\n",
    "The relationship between education and salary can vary depending on the type of education pursued. Vocational education can also potentially lead to immediate employment opportunities but may not provide the same long-term income growth as academic degrees. This may be due to more specific professional training in post-secondary education with an emphasis on occupational hierarchy. There are a variety of high paying trade jobs including, but not limited to, HVAC technicians, electricians, and plumbers that offer high paying salaries without needing a four-year degree or above. Not all forms of education have the same income trajectory. There are many ways to achieve a great deal of financial success that should be mentioned. \n",
    "\n",
    "In our project, we look to similarly examine the relationship between post-secondary education and annual earnings, particularly focusing on whether individuals with such education are more likely to earn above or below $50,000 per year.\n",
    "\n",
    "\n",
    "References:\n",
    "\n",
    "1. <a name=\"cite_note-1\"></a> [^](#cite_ref-1) Carnevale, A. P., Rose, S. J., & Cheah, B. (2011). The College Payoff: Education, Occupations, Lifetime Earnings. Georgetown University Center on Education and the Workforce. https://cew.georgetown.edu/wp-content/uploads/collegepayoff-completed.pdf\n",
    "\n",
    "2. <a name=\"cite_note-2\"></a> [^](#cite_ref-2) National Center for Education Statistics. (n.d.). Annual Earnings by Educational Attainment. U.S. Department of Education. https://nces.ed.gov/programs/coe/indicator/cba/annual-earnings\n",
    "\n",
    "3. <a name=\"cite_note-3\"></a> [^](#cite_ref-3) Association of Public and Land-grant Universities. (n.d.). How does a college degree improve graduates’ employment and earnings potential? https://www.aplu.org/our-work/4-policy-and-advocacy/publicuvalues/employment-earnings/"
   ]
  },
  {
   "cell_type": "markdown",
   "metadata": {},
   "source": [
    "# Hypothesis\n"
   ]
  },
  {
   "cell_type": "markdown",
   "metadata": {},
   "source": [
    "We hypothesize that there will be a trend of an increased likelihood of $50k or more salary alongside an individual’s level of education, with perhaps a small departure from the trend when comparing the salaries of young individuals with a vocational associate's degree to those with higher levels of education.  We predict this overall trend because of our research and prior knowledge that suggest higher education on average results in more successful careers and salaries and that four-plus year degrees provide specialized knowledge and opportunities for career advancement when compared to an associate degree or lesser college experience.  We predict an exception to the trend with vocational associates because we believe vocational training may provide high initial wages in technical fields but constraints in long-term salary growth which could surface in our analysis.\n"
   ]
  },
  {
   "cell_type": "markdown",
   "metadata": {},
   "source": [
    "# Data"
   ]
  },
  {
   "cell_type": "markdown",
   "metadata": {},
   "source": [
    "## Data overview\n",
    "\n",
    "Dataset Name: Salary Prediction Classification\n",
    "\n",
    "[https://www.kaggle.com/datasets/ayessa/salary-prediction-classification](https://www.kaggle.com/datasets/ayessa/salary-prediction-classification)\n",
    "\n",
    "Our ideal dataset would include recent demographic and employment data collected from sources such as the U.S. Census or alumni surveys from several colleges and high schools. It would contain several thousand observations to ensure a representative sample across different education levels. The annual/hourly income data would be categorized into granular brackets (5-10k), while each row in the dataset would represent background information such as demographics, level of education, employment history, work experience, occupation, etc. This data could be cleaned of unique identifying information and properly anonymized, then stored in a relational database where each row would be a person’s set of answers and the columns would encompass each data field. \n",
    "\n",
    "The dataset we are using, “Salary Prediction Classification”, was extracted from the 1994 U.S. Census database and consists of 32,600 observations. Each row represents an individual respondent, with columns including demographics, level of education, working hours per week, and a true/false value for whether the person’s salary is greater than $50K/year. The main objective of this analysis is to examine how educational level and work experience influence income levels. Although the dataset is somewhat outdated and does not reflect more recent economic trends, all data was recorded within the same historical and economic context, keeping the dataset consistent. Therefore, we can still make an accurate analysis of how educational level influenced income at that time without external factors such as inflation, job market conditions, or technological advancements. \n",
    "\n",
    "A critical part of this study is understanding how education levels impact salary, specifically for individuals working 40 hours per week, which means we would have to filter the dataset to include only ~40 hours/week workers for consistency. The dataset’s education level variable (numerical) categorizes individuals based on their highest degree attained, such as high school diploma, associate degree, bachelor’s degree, and so forth. Because education is one of the significant factors that influence earning potential, this will serve as a key variable in our analysis. Also, the dataset includes hours worked per week (numerical) that helps differentiate between part-time and full-time employment. Salary comparisons across education levels are most meaningful when controlling for work hours; therefore, this study will most likely focus specifically on full-time workers. \n",
    "\n",
    "Another important variable to consider is salary, which is represented by a true/false value that indicates whether an individual earns above or below $50K/year. Although a more granular salary breakdown would allow for a more precise analysis, this classification can still produce relevant comparisons of salary distributions across different levels of education. The numerical age variable will also be useful when determining the age groups where post-secondary education provides more financial benefits. Furthermore, categorical variables like work class and occupation can provide additional context on how salaries differ across industries and employment types. They may serve as control variables to isolate the impact of education on salary outcomes. Since work classes vary between the private-sector, the public-sector, and the self-employed workers, patterns in wage disparities can be revealed. \n",
    "\n",
    "Although the census data is quite old, it is not irrelevant as all the salaries we analyze will be from the same time period and should reflect the impact of education level on annual salary. In 1994, a $50K annual salary for a 40 hours/week worker converts to an hourly wage of $24.04, which fell within the medium wage bracket at the time. Based on historical wage growth data, wages increased at an average rate of 0.1% per year between 1979 and 2019, which was followed by a sharp increase during the pandemic years. The total median wage growth from 1979 to 2023 estimates to be 17.4%, with an approximate 1.4% increase between 1979 and 1994 [4]. In today’s terms, this means that the threshold for the equivalent salary in a modern census data study should be around or more than $58K per year. \n",
    "\n",
    "4. <a name=\"cite_note-4\"></a> [^](#cite_ref-4) Jones, D. (2023, August 7). Chart: Growth in U.S. real wages, by income group (1979–2023). Visual Capitalist. https://www.visualcapitalist.com/growth-in-real-wages-over-time-by-income-group-usa-1979-2023/"
   ]
  },
  {
   "cell_type": "markdown",
   "metadata": {},
   "source": [
    "## Dataset #1: Salary"
   ]
  },
  {
   "cell_type": "code",
   "execution_count": 1,
   "metadata": {},
   "outputs": [],
   "source": [
    "#Imports\n",
    "import seaborn as sns\n",
    "import pandas as pd\n",
    "import matplotlib.pyplot as plt\n",
    "\n",
    "#Load:  \n",
    "df = pd.read_csv('salary.csv')\n",
    "\n",
    "#Data cleaning/wrangling:  \n",
    "df_new = df.dropna(how='all')  #drop rows with all null values(if any)  \n",
    "df_new[\"education\"] = df_new[\"education\"].str.strip() #delete leading whitespaces  \n",
    "df_new = df[df[\"hours-per-week\"] == 40]  #specify 40 hrs a week  \n",
    "df_new = df_new[~df_new[\"workclass\"].isin([\"Without-pay\", \"Never-worked\"])] #remove anyone who is unemployed\n",
    "\n",
    "#Data tidying:  \n",
    "df_new.columns = df_new.columns.str.replace('-', '*')  #*use snake_case, better readability"
   ]
  },
  {
   "cell_type": "markdown",
   "metadata": {},
   "source": [
    "The wrangling and filtering choices were made carefully considering the dataset being used. Using dropna() to drop all rows with all missing values was a necessary step to clean up the data. With the amount of data in the set, it is difficult to to catch even one or two missing rows, and this was the simplest way to erase them. Although imputation could be useful in a case where one value of low importance and impact is missing, it would not suffice for a row that was missing, for example, education and/or salary, as exact values are needed for both in order to maintain accuracy and help the research. As for the other filtering choices, this was done to stay relevant to our research question, as the research is being based on employed individuals working 40 hours a week. Conveniently, this also erases any edge cases or outliers such as excessive working hours. The other tidying and cleaning was deleting whitespaces and using camelCase, which was done to better the readability of the dataset.\n"
   ]
  },
  {
   "cell_type": "markdown",
   "metadata": {},
   "source": [
    "# Results\n",
    "\n",
    "## Exploratory Data Analysis\n",
    "\n"
   ]
  },
  {
   "cell_type": "markdown",
   "metadata": {},
   "source": [
    "### EDA: Organization and Distributions\n",
    "\n",
    "This section will focus on organizing the dataset and variables that will be used for research as well as looking at the distributions and relationships between these variables. "
   ]
  },
  {
   "cell_type": "code",
   "execution_count": 2,
   "metadata": {},
   "outputs": [],
   "source": [
    "#dropping irrelevant columns\n",
    "df_new = df_new.drop(columns = ['fnlwgt', 'marital*status', 'capital*gain', 'capital*loss'])"
   ]
  },
  {
   "cell_type": "code",
   "execution_count": 3,
   "metadata": {},
   "outputs": [],
   "source": [
    "#creating function to turn salary column values into booleans \n",
    "#True -> >50K, False -> <=50K\n",
    "def create_boolean(string):\n",
    "    string = string.strip()\n",
    "    if (string == '<=50K'):\n",
    "        return False\n",
    "    if (string == '>50K'):\n",
    "        return True\n",
    "\n",
    "df_new['salary'] = df_new['salary'].apply(create_boolean)"
   ]
  },
  {
   "cell_type": "code",
   "execution_count": 4,
   "metadata": {},
   "outputs": [
    {
     "data": {
      "text/plain": [
       "<Axes: xlabel='education*num', ylabel='Proportion Earning >50k'>"
      ]
     },
     "execution_count": 4,
     "metadata": {},
     "output_type": "execute_result"
    },
    {
     "data": {
      "image/png": "[encoded data removed]",
      "text/plain": [
       "<Figure size 640x480 with 1 Axes>"
      ]
     },
     "metadata": {},
     "output_type": "display_data"
    }
   ],
   "source": [
    "#barplot graphing education levels and proportion of individuals earning >50k annually\n",
    "plt.ylabel(\"Proportion Earning >50k\")\n",
    "sns.barplot(x = 'education*num', y = 'salary', data = df_new)"
   ]
  },
  {
   "cell_type": "markdown",
   "metadata": {},
   "source": [
    "This barplot visualizes the relationship between education level and the proportion of individuals earning >50K annually. The ordinal variable, education*num, represents educaiton levels as follows\n",
    "- 1: Preschool\n",
    "- 2: 1-4th Grade\n",
    "- 3: 5-6th Grade\n",
    "- 4: 7-8th Grade\n",
    "- 5: 9th Grade\n",
    "- 6: 10th Grade\n",
    "- 7: 11th Grade\n",
    "- 8: 12th Grade\n",
    "- 9: HS-grad\n",
    "- 10: Some College\n",
    "- 11: Associate's Vocational Studies\n",
    "- 12: Associate's of Academic Studies\n",
    "- 13: Bachelor's\n",
    "- 14: Master's\n",
    "- 15: Professional School\n",
    "- 16: Doctorate (PhD)\n",
    "\n",
    "We predicted, in our hypothesis, that individuals with vocational associate's degrees would have a higher proportion of earnings above 50K compared to those with some college but no degree, and we can see this in our graph. Vocational training provides higher initial wages, resulting in this greater increase in proportion of >50K between education levels 10 and 11. Additionally, a greater proportion of people cross our salary threshold for people with vocational associate's degrees than academic associate's degrees."
   ]
  },
  {
   "cell_type": "markdown",
   "metadata": {},
   "source": [
    "We will now separate our dataframe into post-secondary workers, education levels 10-16, and pre-secondary workers, education levels 1-9."
   ]
  },
  {
   "cell_type": "code",
   "execution_count": 5,
   "metadata": {},
   "outputs": [],
   "source": [
    "#group1: workers with post-secondary education (associates, bachelor's, etc.) (10-16)\n",
    "#group2: up to high school diploma (1-9)\n",
    "post_secondary_df = df_new[df_new['education*num'] > 9][['education', 'education*num', 'salary']]\n",
    "pre_secondary_df = df_new[df_new['education*num'] <= 9][['education', 'education*num', 'salary']]"
   ]
  },
  {
   "cell_type": "code",
   "execution_count": 6,
   "metadata": {},
   "outputs": [
    {
     "name": "stdout",
     "output_type": "stream",
     "text": [
      "0.29593432369038314\n",
      "0.12939148879756066\n",
      "0.16654283489282248\n"
     ]
    }
   ],
   "source": [
    "#proportion of people that make >50K\n",
    "post_salary = post_secondary_df['salary'].mean()\n",
    "pre_salary = pre_secondary_df['salary'].mean()\n",
    "print(post_salary)\n",
    "print(pre_salary)\n",
    "print(post_salary - pre_salary)"
   ]
  },
  {
   "cell_type": "markdown",
   "metadata": {},
   "source": [
    "We see that individuals with post-secondary education (e.g., associate degree, bachelor’s degree) are approimately 16.65% more likely to >50K compared to those with a pre-secondary education, among full-time (40 hours/week) workers in the United States. "
   ]
  },
  {
   "cell_type": "markdown",
   "metadata": {},
   "source": [
    "We can numerically look at the proportion of workers that earn more than 50K at each education level."
   ]
  },
  {
   "cell_type": "code",
   "execution_count": 7,
   "metadata": {},
   "outputs": [
    {
     "data": {
      "text/plain": [
       "education*num\n",
       "1     0.000000\n",
       "2     0.037500\n",
       "3     0.049505\n",
       "4     0.057143\n",
       "5     0.047970\n",
       "6     0.072562\n",
       "7     0.060166\n",
       "8     0.108374\n",
       "9     0.153693\n",
       "10    0.193319\n",
       "11    0.241427\n",
       "12    0.235052\n",
       "13    0.363201\n",
       "14    0.515742\n",
       "15    0.640288\n",
       "16    0.721311\n",
       "Name: salary, dtype: float64"
      ]
     },
     "execution_count": 7,
     "metadata": {},
     "output_type": "execute_result"
    }
   ],
   "source": [
    "proportion_by_education = df_new[['education', 'education*num', 'salary']]\n",
    "salary_proportions = proportion_by_education.groupby('education*num')['salary'].mean()\n",
    "salary_proportions"
   ]
  },
  {
   "cell_type": "markdown",
   "metadata": {},
   "source": [
    "The first part of our research question has been answered. We will now see at what age group are these increases best realized for workers that pursue a post-secondary education."
   ]
  },
  {
   "cell_type": "markdown",
   "metadata": {},
   "source": [
    "We will first split our dataframe, df_new, into separate age groups for workers.\n",
    "- [17-30)\n",
    "- [30-40)\n",
    "- [40-50)\n",
    "- [50-60)\n",
    "- [60-70)\n",
    "- [70-80)\n",
    "- [80-90)"
   ]
  },
  {
   "cell_type": "code",
   "execution_count": 8,
   "metadata": {},
   "outputs": [],
   "source": [
    "age_df = df_new[['age', 'education', 'education*num', 'salary']]\n",
    "#age groups will be [17-30), [30-40), ..., [80-90]\n",
    "age_group_1 = age_df[(age_df['age'] >= 17) & (age_df['age'] < 30)]\n",
    "age_group_2 = age_df[(age_df['age'] >= 30) & (age_df['age'] < 40)]\n",
    "age_group_3 = age_df[(age_df['age'] >= 40) & (age_df['age'] < 50)]\n",
    "age_group_4 = age_df[(age_df['age'] >= 50) & (age_df['age'] < 60)]\n",
    "age_group_5 = age_df[(age_df['age'] >= 60) & (age_df['age'] < 70)]\n",
    "age_group_6 = age_df[(age_df['age'] >= 70) & (age_df['age'] < 80)]\n",
    "age_group_7 = age_df[(age_df['age'] >= 80) & (age_df['age'] < 90)]"
   ]
  },
  {
   "cell_type": "markdown",
   "metadata": {},
   "source": [
    "At each age range, we will examine the difference between the proportion of workers with post-secondary educations that earn >50K against workers without it."
   ]
  },
  {
   "cell_type": "code",
   "execution_count": 9,
   "metadata": {},
   "outputs": [
    {
     "name": "stdout",
     "output_type": "stream",
     "text": [
      "0.04890969636828574\n",
      "0.1624492827903553\n",
      "0.2301370115450885\n",
      "0.26657729595306096\n",
      "0.2525291782967648\n",
      "0.16215253029223095\n",
      "0.0\n"
     ]
    }
   ],
   "source": [
    "#proportion of people that make > 50K for age group 1 [17-30)\n",
    "post_secondary_1 = age_group_1[age_group_1['education*num'] > 9][['education', 'education*num', 'salary']]\n",
    "pre_secondary_1 = age_group_1[age_group_1['education*num'] <= 9][['education', 'education*num', 'salary']]\n",
    "\n",
    "post_salary_1 = post_secondary_1['salary'].mean()\n",
    "pre_salary_1 = pre_secondary_1['salary'].mean()\n",
    "print(post_salary_1 - pre_salary_1)\n",
    "\n",
    "#proportion of people that make > 50K for age group 2 [30-40)\n",
    "post_secondary_2 = age_group_2[age_group_2['education*num'] > 9][['education', 'education*num', 'salary']]\n",
    "pre_secondary_2 = age_group_2[age_group_2['education*num'] <= 9][['education', 'education*num', 'salary']]\n",
    "\n",
    "post_salary_2 = post_secondary_2['salary'].mean()\n",
    "pre_salary_2 = pre_secondary_2['salary'].mean()\n",
    "print(post_salary_2 - pre_salary_2)\n",
    "\n",
    "#proportion of people that make > 50K for age group 3 [40-50)\n",
    "post_secondary_3 = age_group_3[age_group_3['education*num'] > 9][['education', 'education*num', 'salary']]\n",
    "pre_secondary_3 = age_group_3[age_group_3['education*num'] <= 9][['education', 'education*num', 'salary']]\n",
    "\n",
    "post_salary_3 = post_secondary_3['salary'].mean()\n",
    "pre_salary_3 = pre_secondary_3['salary'].mean()\n",
    "print(post_salary_3 - pre_salary_3)\n",
    "\n",
    "#proportion of people that make > 50K for age group 4 [50-60)\n",
    "post_secondary_4 = age_group_4[age_group_4['education*num'] > 9][['education', 'education*num', 'salary']]\n",
    "pre_secondary_4 = age_group_4[age_group_4['education*num'] <= 9][['education', 'education*num', 'salary']]\n",
    "\n",
    "post_salary_4 = post_secondary_4['salary'].mean()\n",
    "pre_salary_4 = pre_secondary_4['salary'].mean()\n",
    "print(post_salary_4 - pre_salary_4)\n",
    "\n",
    "#proportion of people that make > 50K for age group 5 [60-70)\n",
    "post_secondary_5 = age_group_5[age_group_5['education*num'] > 9][['education', 'education*num', 'salary']]\n",
    "pre_secondary_5 = age_group_5[age_group_5['education*num'] <= 9][['education', 'education*num', 'salary']]\n",
    "\n",
    "post_salary_5 = post_secondary_5['salary'].mean()\n",
    "pre_salary_5 = pre_secondary_5['salary'].mean()\n",
    "print(post_salary_5 - pre_salary_5)\n",
    "\n",
    "#proportion of people that make > 50K for age group 6 [70-80)\n",
    "post_secondary_6 = age_group_6[age_group_6['education*num'] > 9][['education', 'education*num', 'salary']]\n",
    "pre_secondary_6 = age_group_6[age_group_6['education*num'] <= 9][['education', 'education*num', 'salary']]\n",
    "\n",
    "post_salary_6 = post_secondary_6['salary'].mean()\n",
    "pre_salary_6 = pre_secondary_6['salary'].mean()\n",
    "print(post_salary_6 - pre_salary_6)\n",
    "\n",
    "#proportion of people that make > 50K for age group 7 [80-90)\n",
    "#this one might be negligible\n",
    "post_secondary_7 = age_group_7[age_group_7['education*num'] > 9][['education', 'education*num', 'salary']]\n",
    "pre_secondary_7 = age_group_7[age_group_7['education*num'] <= 9][['education', 'education*num', 'salary']]\n",
    "\n",
    "post_salary_7 = post_secondary_7['salary'].mean()\n",
    "pre_salary_7 = pre_secondary_7['salary'].mean()\n",
    "print(post_salary_7 - pre_salary_7)\n",
    "\n",
    "#from this, we can see that age range 4, or [50-60), see this percent increase in post-secondary education the greatest "
   ]
  },
  {
   "cell_type": "markdown",
   "metadata": {},
   "source": [
    "..."
   ]
  },
  {
   "cell_type": "markdown",
   "metadata": {
    "slideshow": {
     "slide_type": "subslide"
    }
   },
   "source": [
    "### EDA Variable Relationships and Outliers\n",
    "\n",
    "In this section, education vs. earning will be compared to different age groups in order to see their relationship. The groups will now be divided into three for better readability in the graph: young adults(18-29), middle-aged adults(30-64), and seniors(65+). Here is the updated graph."
   ]
  },
  {
   "cell_type": "code",
   "execution_count": 12,
   "metadata": {},
   "outputs": [
    {
     "data": {
      "image/png": "[encoded data removed]",
      "text/plain": [
       "<Figure size 1400x700 with 1 Axes>"
      ]
     },
     "metadata": {},
     "output_type": "display_data"
    }
   ],
   "source": [
    "bins = [18, 30, 65, 100]\n",
    "labels = [\"18-29\", \"30-64\", \"65+\"]\n",
    "df_new[\"age_group\"] = pd.cut(df_new[\"age\"], bins=bins, labels=labels, right=False)\n",
    "\n",
    "plt.figure(figsize=(14, 7))\n",
    "\n",
    "sns.barplot(x = 'education*num', y = 'salary', hue=\"age_group\", data = df_new)\n",
    "plt.xlabel(\"Education Level\")\n",
    "plt.ylabel(\"Proportion Earning >50K\")\n",
    "plt.title(\"Education Level vs. Proportion Earning >50K, Shown by Age Groups\")\n",
    "plt.legend(title=\"Age Group\")\n",
    "plt.show()"
   ]
  },
  {
   "cell_type": "markdown",
   "metadata": {},
   "source": [
    "Outliers are not a problem within the data, as they have already been filtered through the variables. Hours per week has been set to 40, salary has been put into a boolean type category, and age groups were created to organize all individuals. With these filters, there could be no outliers left in the data to deal with."
   ]
  },
  {
   "cell_type": "markdown",
   "metadata": {},
   "source": [
    "# Ethics & Privacy"
   ]
  },
  {
   "cell_type": "markdown",
   "metadata": {},
   "source": [
    "The 1994 U.S. Census dataset is publicly sourced data collected and mandated by the U.S. government, which guarantees ethicality in its data collection. However, ethical and other critical challenges need to be addressed while interpreting older data. The challenges include representation biases, the limitations of outdated economic data, and the risk of perpetuating harmful stereotypes. \n",
    "\n",
    "One of the biggest concerns is representation bias because the dataset may not entirely represent the diversity of the U.S. population. Even though the 1994 Census covers a broad sample of the U.S. population, it may underrepresent various groups in certain ways. For example, the dataset can illustrate historical gender disparities, where women have historically earned lower wages than men for equivalent work and education levels. This inequality should be interpreted as a fundamental issue rather than an inherent relationship between gender and income. Likewise, racial and ethnic inequities are evident in the data, since certain barriers historically induced limited access to education and career opportunities for minority groups. Furthermore, because the dataset displays income at a single point in time, it does not reflect long-term potential or career advancement of individuals with different levels of education. In order to address these biases, this study’s findings will be set within their historical context while recognizing that the observed trends may not fully align with the present day. Also, any conclusions regarding income disparities will be cautiously made to avoid overgeneralization or predetermined claims that fail to consider broader influences. \n",
    "\n",
    "Another issue is the outdated nature of the dataset. Since 1994, the U.S. economy experienced drastic shifts that altered the relationship between education and income. Changes such as technological advancements, the decline of manufacturing jobs, and the rise of remote work clearly redefined labor market opportunities, which affects how education is associated with earnings. In addition, the increased tuition costs and student loan debt also change the economic relationship on higher education, while policy shifts like minimum wage changes and labor protections have influenced income distribution. To mitigate this limitation, our findings may be strictly framed as historical trends rather than comparisons to present-day labor market conditions. If applicable, we can discuss relevant policy changes and shifts in educational accessibility to provide additional context. \n",
    "\n",
    "Lastly, the study should avoid implying harmful stereotypes when analyzing the relationship between education and income. The assumption that education alone determines earnings would fail to notice systemic factors such as historical discrimination, labor market inequality, and other barriers. Without careful analysis, our findings could unintentionally prompt insinuations that blame individuals for income disparities rather than recognizing structural conditions that shape economic outcomes. To prevent this, we will avoid claims that oversimplify the relationship between education and income, and instead emphasize the broader economic and policy frameworks that influence wage distributions. "
   ]
  },
  {
   "cell_type": "markdown",
   "metadata": {},
   "source": [
    "# Team Expectations "
   ]
  },
  {
   "cell_type": "markdown",
   "metadata": {},
   "source": [
    "* **Organization**  \n",
    "  * All team members are expected to show up to meetings using Discord  \n",
    "  * We expect each team member to have their own way of stating their thoughts, whether bluntly or not  \n",
    "  * Decisions will be made after every member has agreed, and each person will always have their say  \n",
    "  * If a person has issues and is struggling to complete their end:   \n",
    "    * It should be told before deadlines to avoid untimely completion   \n",
    "    * Other team members can take over and help when needed  \n",
    "* **Contribution**  \n",
    "* Every person will be assigned their part, and some parts will have multiple members   \n",
    "* All members need to put in equal effort to the project, which means a fair splitting of work  \n",
    "* Some aspects everyone needs to work on:  \n",
    "  * Code  \n",
    "  * Checking for mistakes (grammar, spelling, graph mistakes)  \n",
    "  * Text  \n",
    "* **Communication**  \n",
    "  * All communication must be respectful, avoiding conflicts  \n",
    "  * Criticism:  \n",
    "  * Respectful  \n",
    "  * Not too blunt  \n",
    "  * Think of solutions, not just stating the problems  \n",
    "* **Conflict**  \n",
    "  * Resolved through communication  \n",
    "  * To understand better, everyone must take the quiz:   \n",
    "    * [https://cuboulder.qualtrics.com/jfe/form/SV\\_6Kkp5kCHt628Zg1](https://cuboulder.qualtrics.com/jfe/form/SV_6Kkp5kCHt628Zg1)  "
   ]
  },
  {
   "cell_type": "markdown",
   "metadata": {},
   "source": [
    "# Project Timeline Proposal"
   ]
  },
  {
   "cell_type": "markdown",
   "metadata": {},
   "source": [
    "| Meeting Date | Meeting Time | Completed Before Meeting | Discuss at Meeting |\n",
    "| :---- | :---- | :---- | :---- |\n",
    "| 1/31 | 2pm | Read through project guidelines, brainstorming ideas | Exchange contact information, start finalizing a topic |\n",
    "| 2/8 | 10pm | Do background research, familiarize with chosen dataset | Filling out the project proposal, start splitting up work accordingly  |\n",
    "| 2/15 | 12pm | Import the data/EDA | Discuss cleanliness of data and start editing/wrangling |\n",
    "| 2/22 | 12pm | Review checkpoint guidelines | Data Checkpoint |\n",
    "| 3/8 | 12pm | Review checkpoint guidelines | EDA Checkpoint |\n",
    "| 3/13 | 12pm | Finish up data analysis  | Finalize project |\n",
    "| 3/20 | 12pm | Finish up the project | Final Project submission  |"
   ]
  }
 ],
 "metadata": {
  "kernelspec": {
   "display_name": "Python 3 (ipykernel)",
   "language": "python",
   "name": "python3"
  },
  "language_info": {
   "codemirror_mode": {
    "name": "ipython",
    "version": 3
   },
   "file_extension": ".py",
   "mimetype": "text/x-python",
   "name": "python",
   "nbconvert_exporter": "python",
   "pygments_lexer": "ipython3",
   "version": "3.11.9"
  }
 },
 "nbformat": 4,
 "nbformat_minor": 4
}
